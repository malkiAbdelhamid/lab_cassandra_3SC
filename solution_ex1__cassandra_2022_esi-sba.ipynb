{
 "cells": [
  {
   "cell_type": "markdown",
   "metadata": {},
   "source": [
    "# Exercice: Modélisation orientée requête (Cassandra)\n",
    "\n",
    "<table><tr>\n",
    "    <td><img src=\"image/esi-sba.png\" width=\"100\" height=\"100\"></td>\n",
    "    <td><img src=\"image/cassandra.png\" width=\"100\" height=\"100\"></td>\n",
    "    </tr></table>\n",
    "\n"
   ]
  },
  {
   "cell_type": "markdown",
   "metadata": {},
   "source": [
    "### Dans ce notebook, nous allons travailler sur la modélisation orientée requête sous la BDD No-SQL Cassandra, en particulier nous traitons les points suivants :\n",
    "\n",
    "* Dénormaliser une BDD relationnelle en partant du principe 1 table per query \n",
    "* Définir la partie Primary Key pour chaque requête\n",
    "* Optimiser vos modèles en choisissant la bonne Partition Key & Clustering Column\n",
    "* Valider vos modèles \n",
    "* Tester quelques requêtes particulières\n"
   ]
  },
  {
   "cell_type": "markdown",
   "metadata": {},
   "source": [
    "#### installer cassandra-driver afin de se connecter au cluster cassandra\n",
    "! pip install cassandra-driver\n",
    "#### More documentation can be found here:  https://datastax.github.io/python-driver/"
   ]
  },
  {
   "cell_type": "markdown",
   "metadata": {},
   "source": [
    "#### Import Apache Cassandra python package"
   ]
  },
  {
   "cell_type": "code",
   "execution_count": 1,
   "metadata": {},
   "outputs": [],
   "source": [
    "import cassandra"
   ]
  },
  {
   "cell_type": "markdown",
   "metadata": {},
   "source": [
    "### créer une connection au cluster cassandra"
   ]
  },
  {
   "cell_type": "code",
   "execution_count": 2,
   "metadata": {},
   "outputs": [],
   "source": [
    "from cassandra.cluster import Cluster\n",
    "\n",
    "try: \n",
    "    cluster = Cluster(['127.0.0.1']) # si cassandra est installé localement avec le port par défaut 9042\n",
    "    session = cluster.connect()\n",
    "except Exception as e:\n",
    "    print(e)"
   ]
  },
  {
   "cell_type": "markdown",
   "metadata": {},
   "source": [
    "### créer maintenant un keyspace nommé \"iot_esi\""
   ]
  },
  {
   "cell_type": "code",
   "execution_count": 3,
   "metadata": {},
   "outputs": [],
   "source": [
    "try:\n",
    "    \n",
    "  ### add code here \n",
    "  session.execute(\"\"\"\n",
    "    CREATE KEYSPACE IF NOT EXISTS iot_esi2\n",
    "    WITH REPLICATION = \n",
    "    { 'class' : 'SimpleStrategy', 'replication_factor' : 1 }\"\"\") \n",
    "\n",
    "except Exception as e:\n",
    "    print(e)"
   ]
  },
  {
   "cell_type": "markdown",
   "metadata": {},
   "source": [
    "### connecter à votre Keyspace  iot_esi \n"
   ]
  },
  {
   "cell_type": "code",
   "execution_count": 4,
   "metadata": {},
   "outputs": [],
   "source": [
    "try:\n",
    "    \n",
    "    session.set_keyspace('iot_esi2')\n",
    "    \n",
    "except Exception as e:\n",
    "    print(e)"
   ]
  },
  {
   "cell_type": "markdown",
   "metadata": {},
   "source": [
    "### Supposons qu'on a un système IoT qui stocke les données capturées par les différents Sensors en utilisant un modèle RELATIONNEL, tel que est décrit dans le schéma ER ci-dessous:\n",
    "\n",
    "<table><tr>\n",
    "    <td><img src=\"image/ex1_IoT_ER_model.png\" width=\"500\" height=\"500\"></td>\n",
    "      </tr></table>"
   ]
  },
  {
   "cell_type": "markdown",
   "metadata": {},
   "source": [
    "### imaginons  que nous souhaitons analyser ces données à  travers 3 requêtes analytiques:\n",
    "* `Query1= retourner les informations(name, region, nbSensors) de tous les Networks`\n",
    "* `Query2= retourner les informations (name,type,localisation) de tous les Sensors d'un Network donné.`\n",
    "* `Query3= retourner le AVG_measurements par sensor,  par jour et par heure.  Ordonner le résultat par  jour(desc) et par heure (asc)`"
   ]
  },
  {
   "cell_type": "markdown",
   "metadata": {},
   "source": [
    "#### Créer les trois tables qui correspondent aux requêtes précédentes, en indiquant pour chacune:\n",
    "* Primary Key\n",
    "* Partition Key\n",
    "* Clustering Column"
   ]
  },
  {
   "cell_type": "code",
   "execution_count": 5,
   "metadata": {},
   "outputs": [],
   "source": [
    "try:\n",
    "    \n",
    "    ### Create the table that corresponds to the Query1\n",
    "    query1 = \"CREATE TABLE IF NOT EXISTS Networks \"\n",
    "    query1 = query1 + \"(nameNt text, region text, nbSensors int, PRIMARY KEY (region,nameNt))\"\n",
    "    session.execute(query1)\n",
    "    \n",
    "    \n",
    "    ### Create the table that corresponds to the Query2\n",
    "    query2=\"CREATE TABLE IF NOT EXISTS Sensor_By_Network\"\n",
    "    query2 = query2 + \"(nameNt text, nameS text, type text, latitude float, longitude float, PRIMARY KEY (nameNT, nameS))\"\n",
    "    session.execute(query2)\n",
    "    \n",
    "    \n",
    "    ### Create the table that corresponds to the Query3\n",
    "    query3=\"CREATE TABLE IF NOT EXISTS AVG_measurements\"\n",
    "    query3 = query3 + \"(nameS text,  jour date, hour time, AVG_measurements float, PRIMARY KEY (nameS, jour, hour)) \"\n",
    "    query3=query3+\" with clustering order by (jour desc, hour asc) ;\"\n",
    "    session.execute(query3) \n",
    "    \n",
    "    \n",
    "except Exception as e:\n",
    "       print(e)"
   ]
  },
  {
   "cell_type": "markdown",
   "metadata": {},
   "source": [
    "### Une fois vous créez les différentes tables, essayez de les peupler en se basant sur le contenu de la BDD relationnelle.\n",
    "\n",
    "<table><tr>\n",
    "    <td><img src=\"image/network_data.png\" width=\"200\" height=\"300\"></td></tr>\n",
    "   <tr> <td><img src=\"image/sensor_data.png\" width=\"400\" height=\"500\"></td> </tr>\n",
    "        <tr>\n",
    "       <td><img src=\"image/recorded_data.png\" width=\"350\" height=\"250\"></td>\n",
    "      </tr>\n",
    "</table>"
   ]
  },
  {
   "cell_type": "markdown",
   "metadata": {},
   "source": [
    "### Insertion des données dans Table1"
   ]
  },
  {
   "cell_type": "code",
   "execution_count": 6,
   "metadata": {},
   "outputs": [],
   "source": [
    "query = \"INSERT INTO networks (nameNt, region, nbSensors) \"\n",
    "query = query + \" VALUES (%s,%s, %s)\"\n",
    "\n",
    "try:\n",
    "    session.execute(query, (\"esi-net\",\"ouest\",1))\n",
    "    session.execute(query, (\"udl-net\",\"ouest\",1))\n",
    "    session.execute(query, (\"alger-net\",\"center\",0))\n",
    "except Exception as e:\n",
    "        print(e)  "
   ]
  },
  {
   "cell_type": "markdown",
   "metadata": {},
   "source": [
    "### Insertion des données dans Table2"
   ]
  },
  {
   "cell_type": "code",
   "execution_count": 7,
   "metadata": {},
   "outputs": [],
   "source": [
    "query = \"INSERT INTO Sensor_By_Network (nameNt , nameS , type , latitude, longitude)\"\n",
    "query = query + \" VALUES (%s, %s, %s, %s, %s)\"\n",
    "\n",
    "try:\n",
    "    session.execute(query, (\"esi-net\",\"temp-454\",\"temp\",30.526503,-95.592817))\n",
    "    session.execute(query, (\"udl-net\",\"temp-556232\",\"temp\",31.526503,-96.592817))\n",
    "except Exception as e :\n",
    "        print(e)    "
   ]
  },
  {
   "cell_type": "markdown",
   "metadata": {},
   "source": [
    "### Insertion des données dans Table3"
   ]
  },
  {
   "cell_type": "code",
   "execution_count": 8,
   "metadata": {},
   "outputs": [],
   "source": [
    "query = \"INSERT INTO  AVG_measurements (nameS,  jour, hour , AVG_measurements)\"\n",
    "query = query + \" VALUES (%s, %s, %s, %s)\"\n",
    "\n",
    "try:\n",
    "    session.execute(query, (\"temp-454\",\"2021-10-31\",\"11:00:00\", 10))\n",
    "    session.execute(query, (\"temp-454\",\"2021-10-31\",\"12:00:00\", 11.8))\n",
    "    session.execute(query, (\"temp-454\",\"2021-10-31\",\"13:00:00\", 12.25))\n",
    "    session.execute(query, (\"temp-556232\",\"2021-10-31\",\"11:00:00\", 24))\n",
    "    session.execute(query, (\"temp-556232\",\"2021-10-31\",\"14:00:00\", 26))\n",
    "except Exception as e :\n",
    "        print(e)    "
   ]
  },
  {
   "cell_type": "markdown",
   "metadata": {},
   "source": [
    "### Valider votre modèle en exécutant les requêtes suivantes\n",
    "\n",
    "* Retourner le nombre de sensors dans la région ouest\"\n",
    "\n",
    "* Retourner les sensors qui sont placés dans le network \"esi-net\"\n",
    "\n",
    "* Retourner la température maximale enregistrée par le sensor \"temp-454\" le 31-10-2020"
   ]
  },
  {
   "cell_type": "code",
   "execution_count": 9,
   "metadata": {
    "scrolled": true
   },
   "outputs": [
    {
     "name": "stdout",
     "output_type": "stream",
     "text": [
      "Row(system_sum_nbsensors=2)\n"
     ]
    }
   ],
   "source": [
    "# query1\n",
    "query = \"select sum(nbsensors) from Networks where region='ouest'\"\n",
    "\n",
    "try:\n",
    "    rows = session.execute(query)\n",
    "    for row in rows:\n",
    "          print (row)\n",
    "except Exception as e:\n",
    "        print(e)            "
   ]
  },
  {
   "cell_type": "code",
   "execution_count": 10,
   "metadata": {
    "scrolled": true
   },
   "outputs": [
    {
     "name": "stdout",
     "output_type": "stream",
     "text": [
      "Row(nament='esi-net', names='temp-454', latitude=30.52650260925293, longitude=-95.59281921386719, type='temp')\n"
     ]
    }
   ],
   "source": [
    "# query2\n",
    "query = \"select * from Sensor_By_Network where nameNt='esi-net' \"\n",
    "\n",
    "try:\n",
    "    rows = session.execute(query)\n",
    "    for row in rows:\n",
    "          print (row)\n",
    "except Exception as e:\n",
    "        print(e)            "
   ]
  },
  {
   "cell_type": "code",
   "execution_count": 11,
   "metadata": {
    "scrolled": true
   },
   "outputs": [
    {
     "name": "stdout",
     "output_type": "stream",
     "text": [
      "Row(system_max_avg_measurements=12.25)\n"
     ]
    }
   ],
   "source": [
    "# query3\n",
    "query = \"select max(AVG_measurements) from AVG_measurements where names='temp-454' and jour='2021-10-31'\"\n",
    "\n",
    "try:\n",
    "    rows = session.execute(query)\n",
    "    for row in rows:\n",
    "          print (row)\n",
    "except Exception as e:\n",
    "        print(e)            "
   ]
  },
  {
   "cell_type": "markdown",
   "metadata": {},
   "source": [
    "### Essayons d'autres requêtes \n",
    "\n",
    "* `Retourner la température maximale enregistrée par le sensor \"temp-454\" à 13:00:00 pendant le  mois d'octobre` \n"
   ]
  },
  {
   "cell_type": "code",
   "execution_count": 12,
   "metadata": {
    "scrolled": true
   },
   "outputs": [
    {
     "name": "stdout",
     "output_type": "stream",
     "text": [
      "Row(system_max_avg_measurements=12.25)\n"
     ]
    }
   ],
   "source": [
    "# query4\n",
    "query = \"select max(AVG_measurements) from AVG_measurements where names='temp-454' and hour='13:00:00' and \"\n",
    "query=query+\" jour>='2021-10-01' and jour <='2021-10-31' ALLOW FILTERING\"\n",
    "try:\n",
    "    rows = session.execute(query)\n",
    "    for row in rows:\n",
    "          print (row)\n",
    "except Exception as e:\n",
    "        print(e)          "
   ]
  },
  {
   "cell_type": "markdown",
   "metadata": {},
   "source": [
    "### Proposer une solution pour optimiser cette requête"
   ]
  },
  {
   "cell_type": "code",
   "execution_count": 13,
   "metadata": {},
   "outputs": [
    {
     "name": "stdout",
     "output_type": "stream",
     "text": [
      "Row(system_max_avg_measurements=12.25)\n"
     ]
    }
   ],
   "source": [
    "### make your solution \n",
    "\n",
    "## table creation\n",
    "query3=\"CREATE TABLE IF NOT EXISTS AVG_measurements_by_month\"\n",
    "query3 = query3 + \"(nameS text,  month int, hour time, AVG_measurements float, PRIMARY KEY (nameS, month, hour)) \"\n",
    "query3=query3+\" with clustering order by (month desc, hour asc) ;\"\n",
    "session.execute(query3) \n",
    "\n",
    "\n",
    "## insert data\n",
    "query = \"INSERT INTO   AVG_measurements_by_month (nameS,  month, hour , AVG_measurements)\"\n",
    "query = query + \" VALUES (%s, %s, %s, %s)\"\n",
    "\n",
    "try:\n",
    "    session.execute(query, (\"temp-454\",10,\"11:00:00\", 10))\n",
    "    session.execute(query, (\"temp-454\",10,\"12:00:00\", 11.8))\n",
    "    session.execute(query, (\"temp-454\",10,\"13:00:00\", 12.25))\n",
    "    session.execute(query, (\"temp-556232\",10,\"11:00:00\", 24))\n",
    "    session.execute(query, (\"temp-556232\",10,\"14:00:00\", 26))\n",
    "except Exception as e :\n",
    "        print(e)  \n",
    "        \n",
    "### query\n",
    "query = \"select max(AVG_measurements) from AVG_measurements_by_month where names='temp-454' and hour='13:00:00' and \"\n",
    "query=query+\" month=10\"\n",
    "try:\n",
    "    rows = session.execute(query)\n",
    "    for row in rows:\n",
    "          print (row)\n",
    "except Exception as e:\n",
    "        print(e)     "
   ]
  },
  {
   "cell_type": "markdown",
   "metadata": {},
   "source": [
    "###  drop  tables. "
   ]
  },
  {
   "cell_type": "code",
   "execution_count": 14,
   "metadata": {},
   "outputs": [],
   "source": [
    "query = \"drop table if exists Networks\"\n",
    "rows = session.execute(query)\n",
    "\n",
    "query = \"drop table if exists Sensor_By_Network\"\n",
    "rows = session.execute(query)\n",
    "\n",
    "query = \"drop table if exists AVG_measurements\"\n",
    "rows = session.execute(query)\n",
    "\n",
    "\n",
    "query = \"drop table if exists AVG_measurements_by_month\"\n",
    "rows = session.execute(query)\n"
   ]
  },
  {
   "cell_type": "markdown",
   "metadata": {},
   "source": [
    "### close the session and cluster connection"
   ]
  },
  {
   "cell_type": "code",
   "execution_count": 15,
   "metadata": {},
   "outputs": [],
   "source": [
    "session.shutdown()\n",
    "cluster.shutdown()"
   ]
  },
  {
   "cell_type": "code",
   "execution_count": null,
   "metadata": {},
   "outputs": [],
   "source": []
  }
 ],
 "metadata": {
  "kernelspec": {
   "display_name": "Python 3 (ipykernel)",
   "language": "python",
   "name": "python3"
  },
  "language_info": {
   "codemirror_mode": {
    "name": "ipython",
    "version": 3
   },
   "file_extension": ".py",
   "mimetype": "text/x-python",
   "name": "python",
   "nbconvert_exporter": "python",
   "pygments_lexer": "ipython3",
   "version": "3.8.7"
  }
 },
 "nbformat": 4,
 "nbformat_minor": 2
}
